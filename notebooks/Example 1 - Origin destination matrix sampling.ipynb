{
 "cells": [
  {
   "cell_type": "code",
   "execution_count": 2,
   "metadata": {},
   "outputs": [],
   "source": [
    "import os\n",
    "import gc\n",
    "import sys\n",
    "import json\n",
    "import gzip\n",
    "import glob\n",
    "import itertools\n",
    "import numpy as np\n",
    "import pandas as pd\n",
    "import sklearn.manifold\n",
    "import matplotlib as mpl\n",
    "import matplotlib.pyplot as plt\n",
    "\n",
    "from math import comb\n",
    "from tqdm import tqdm\n",
    "from copy import deepcopy\n",
    "from argparse import Namespace\n",
    "from collections import OrderedDict\n",
    "from functools import partial\n",
    "from scipy.stats import multinomial\n",
    "\n",
    "from ticodm.utils import *\n",
    "from ticodm.spatial_interaction_model import ProductionConstrained\n",
    "from ticodm.contingency_table_mcmc import ContingencyTableMarkovChainMonteCarlo\n",
    "from ticodm.contingency_table import instantiate_ct, ContingencyTable2D\n",
    "\n",
    "mpl.rcParams['agg.path.chunksize'] = 10000"
   ]
  },
  {
   "cell_type": "code",
   "execution_count": 3,
   "metadata": {},
   "outputs": [],
   "source": [
    "%matplotlib inline\n",
    "\n",
    "# AUTO RELOAD EXTERNAL MODULES\n",
    "%load_ext autoreload\n",
    "%autoreload 2"
   ]
  },
  {
   "cell_type": "markdown",
   "metadata": {},
   "source": [
    "This notebook outlines key functionality of the ```ContingencyTable``` and ```ContingencyTableMarkovChainMonteCarlo``` classes that are used for constructing and sampling discrete origin-destination matrices (ODMs), respectively."
   ]
  },
  {
   "cell_type": "markdown",
   "metadata": {},
   "source": [
    "# Create a 2D table\n",
    "Choose a specific number of rows $I$ and number of columns $J$ to create a table.\n",
    "Rows usually correspond to number of origin locations while columns map to destination locations."
   ]
  },
  {
   "cell_type": "code",
   "execution_count": 4,
   "metadata": {},
   "outputs": [],
   "source": [
    "# Fix random seed\n",
    "np.random.seed(1234)\n",
    "# Choose 2D table size\n",
    "I,J = 5,6\n",
    "# Randomly create a 2D discrete origin-destination matrix\n",
    "table = np.random.randint(1,50,size=(I*J)).reshape((I,J)).astype('int32')"
   ]
  },
  {
   "cell_type": "markdown",
   "metadata": {},
   "source": [
    "Initialise a contingency table (another name for discrete origin - destination matrix). Two types of constraints are provided: axes and cells.  The specified below constraint implies that:\n",
    "1. All rowsums (sums over axis 1) are fixed. This can be the origin demand for a location choice problem.\n",
    "2. The values of cells (0,1) and (4,2) are fixed. These are specifc OD-pairs."
   ]
  },
  {
   "cell_type": "code",
   "execution_count": 5,
   "metadata": {},
   "outputs": [],
   "source": [
    "# Initialise contingency table (discrete origin - destination matrix)\n",
    "ct = ContingencyTable2D(\n",
    "    table=table,\n",
    "    constraints={\n",
    "        \"axes\":[[1]],\n",
    "        \"cells\":[(0,1),(4,2)]\n",
    "    }\n",
    ")"
   ]
  },
  {
   "cell_type": "markdown",
   "metadata": {},
   "source": [
    "The above initialisation is equivalent to fixed the grand total of the table as follows"
   ]
  },
  {
   "cell_type": "code",
   "execution_count": 6,
   "metadata": {},
   "outputs": [],
   "source": [
    "# Initialise contingency table (discrete origin - destination matrix)\n",
    "ct = ContingencyTable2D(\n",
    "    table=table,\n",
    "    constraints={\n",
    "        \"axes\":[[1],[0,1]],\n",
    "        \"cells\":[(0,1),(4,2)]\n",
    "    }\n",
    ")"
   ]
  },
  {
   "cell_type": "markdown",
   "metadata": {},
   "source": [
    "Note that simply writing ```\"axes\":[1]``` is going to throw an error."
   ]
  },
  {
   "cell_type": "code",
   "execution_count": 7,
   "metadata": {},
   "outputs": [
    {
     "ename": "TypeError",
     "evalue": "object of type 'int' has no len()",
     "output_type": "error",
     "traceback": [
      "\u001b[0;31m---------------------------------------------------------------------------\u001b[0m",
      "\u001b[0;31mTypeError\u001b[0m                                 Traceback (most recent call last)",
      "\u001b[1;32m/home/iz230@ad.eng.cam.ac.uk/ticodm/notebooks/Example 1 - Origin destination matrix sampling.ipynb Cell 11\u001b[0m in \u001b[0;36m<cell line: 2>\u001b[0;34m()\u001b[0m\n\u001b[1;32m      <a href='vscode-notebook-cell://ssh-remote%2Bcsic40/home/iz230%40ad.eng.cam.ac.uk/ticodm/notebooks/Example%201%20-%20Origin%20destination%20matrix%20sampling.ipynb#X13sdnNjb2RlLXJlbW90ZQ%3D%3D?line=0'>1</a>\u001b[0m \u001b[39m# Initialise contingency table (discrete origin - destination matrix)\u001b[39;00m\n\u001b[0;32m----> <a href='vscode-notebook-cell://ssh-remote%2Bcsic40/home/iz230%40ad.eng.cam.ac.uk/ticodm/notebooks/Example%201%20-%20Origin%20destination%20matrix%20sampling.ipynb#X13sdnNjb2RlLXJlbW90ZQ%3D%3D?line=1'>2</a>\u001b[0m ct \u001b[39m=\u001b[39m ContingencyTable2D(\n\u001b[1;32m      <a href='vscode-notebook-cell://ssh-remote%2Bcsic40/home/iz230%40ad.eng.cam.ac.uk/ticodm/notebooks/Example%201%20-%20Origin%20destination%20matrix%20sampling.ipynb#X13sdnNjb2RlLXJlbW90ZQ%3D%3D?line=2'>3</a>\u001b[0m     table\u001b[39m=\u001b[39;49mtable,\n\u001b[1;32m      <a href='vscode-notebook-cell://ssh-remote%2Bcsic40/home/iz230%40ad.eng.cam.ac.uk/ticodm/notebooks/Example%201%20-%20Origin%20destination%20matrix%20sampling.ipynb#X13sdnNjb2RlLXJlbW90ZQ%3D%3D?line=3'>4</a>\u001b[0m     constraints\u001b[39m=\u001b[39;49m{\n\u001b[1;32m      <a href='vscode-notebook-cell://ssh-remote%2Bcsic40/home/iz230%40ad.eng.cam.ac.uk/ticodm/notebooks/Example%201%20-%20Origin%20destination%20matrix%20sampling.ipynb#X13sdnNjb2RlLXJlbW90ZQ%3D%3D?line=4'>5</a>\u001b[0m         \u001b[39m\"\u001b[39;49m\u001b[39maxes\u001b[39;49m\u001b[39m\"\u001b[39;49m:[\u001b[39m1\u001b[39;49m],\n\u001b[1;32m      <a href='vscode-notebook-cell://ssh-remote%2Bcsic40/home/iz230%40ad.eng.cam.ac.uk/ticodm/notebooks/Example%201%20-%20Origin%20destination%20matrix%20sampling.ipynb#X13sdnNjb2RlLXJlbW90ZQ%3D%3D?line=5'>6</a>\u001b[0m         \u001b[39m\"\u001b[39;49m\u001b[39mcells\u001b[39;49m\u001b[39m\"\u001b[39;49m:[(\u001b[39m0\u001b[39;49m,\u001b[39m1\u001b[39;49m),(\u001b[39m4\u001b[39;49m,\u001b[39m2\u001b[39;49m)]\n\u001b[1;32m      <a href='vscode-notebook-cell://ssh-remote%2Bcsic40/home/iz230%40ad.eng.cam.ac.uk/ticodm/notebooks/Example%201%20-%20Origin%20destination%20matrix%20sampling.ipynb#X13sdnNjb2RlLXJlbW90ZQ%3D%3D?line=6'>7</a>\u001b[0m     }\n\u001b[1;32m      <a href='vscode-notebook-cell://ssh-remote%2Bcsic40/home/iz230%40ad.eng.cam.ac.uk/ticodm/notebooks/Example%201%20-%20Origin%20destination%20matrix%20sampling.ipynb#X13sdnNjb2RlLXJlbW90ZQ%3D%3D?line=7'>8</a>\u001b[0m )\n",
      "File \u001b[0;32m~/ticodm/ticodm/contingency_table.py:817\u001b[0m, in \u001b[0;36mContingencyTable2D.__init__\u001b[0;34m(self, table, config, disable_logger, **kwargs)\u001b[0m\n\u001b[1;32m    815\u001b[0m \u001b[39msuper\u001b[39m()\u001b[39m.\u001b[39m\u001b[39m__init__\u001b[39m(table, config, disable_logger, \u001b[39m*\u001b[39m\u001b[39m*\u001b[39mkwargs)\n\u001b[1;32m    816\u001b[0m \u001b[39m# Build\u001b[39;00m\n\u001b[0;32m--> 817\u001b[0m \u001b[39mself\u001b[39;49m\u001b[39m.\u001b[39;49mbuild(table\u001b[39m=\u001b[39;49mtable, config\u001b[39m=\u001b[39;49mconfig, \u001b[39m*\u001b[39;49m\u001b[39m*\u001b[39;49mkwargs)\n",
      "File \u001b[0;32m~/ticodm/ticodm/contingency_table.py:96\u001b[0m, in \u001b[0;36mContingencyTable.build\u001b[0;34m(self, table, config, **kwargs)\u001b[0m\n\u001b[1;32m     93\u001b[0m     \u001b[39mraise\u001b[39;00m \u001b[39mException\u001b[39;00m(\u001b[39m'\u001b[39m\u001b[39mCannot initialise Contingency table.\u001b[39m\u001b[39m'\u001b[39m)\n\u001b[1;32m     95\u001b[0m \u001b[39m# Read constraints\u001b[39;00m\n\u001b[0;32m---> 96\u001b[0m \u001b[39mself\u001b[39;49m\u001b[39m.\u001b[39;49mread_constraints(\u001b[39m*\u001b[39;49m\u001b[39m*\u001b[39;49mkwargs)\n\u001b[1;32m     98\u001b[0m \u001b[39m# Create cell_locations\u001b[39;00m\n\u001b[1;32m     99\u001b[0m \u001b[39mself\u001b[39m\u001b[39m.\u001b[39mcells \u001b[39m=\u001b[39m \u001b[39msorted\u001b[39m([tuplize(cell) \u001b[39mfor\u001b[39;00m cell \u001b[39min\u001b[39;00m product(\u001b[39m*\u001b[39m[\u001b[39mrange\u001b[39m(dim) \u001b[39mfor\u001b[39;00m dim \u001b[39min\u001b[39;00m \u001b[39mself\u001b[39m\u001b[39m.\u001b[39mdims])])\n",
      "File \u001b[0;32m~/ticodm/ticodm/contingency_table.py:491\u001b[0m, in \u001b[0;36mContingencyTable.read_constraints\u001b[0;34m(self, **kwargs)\u001b[0m\n\u001b[1;32m    489\u001b[0m \u001b[39melif\u001b[39;00m str_in_list(\u001b[39m'\u001b[39m\u001b[39mconstraints\u001b[39m\u001b[39m'\u001b[39m, kwargs\u001b[39m.\u001b[39mkeys()):\n\u001b[1;32m    490\u001b[0m     \u001b[39mif\u001b[39;00m str_in_list(\u001b[39m'\u001b[39m\u001b[39maxes\u001b[39m\u001b[39m'\u001b[39m, kwargs[\u001b[39m'\u001b[39m\u001b[39mconstraints\u001b[39m\u001b[39m'\u001b[39m]\u001b[39m.\u001b[39mkeys()):\n\u001b[0;32m--> 491\u001b[0m         constrained_axes \u001b[39m=\u001b[39m [tuplize(ax) \u001b[39mfor\u001b[39;00m ax \u001b[39min\u001b[39;00m kwargs[\u001b[39m'\u001b[39m\u001b[39mconstraints\u001b[39m\u001b[39m'\u001b[39m][\u001b[39m'\u001b[39m\u001b[39maxes\u001b[39m\u001b[39m'\u001b[39m] \u001b[39mif\u001b[39;00m \u001b[39mlen\u001b[39m(ax) \u001b[39m>\u001b[39m \u001b[39m0\u001b[39m]\n\u001b[1;32m    492\u001b[0m     \u001b[39mif\u001b[39;00m str_in_list(\u001b[39m'\u001b[39m\u001b[39mcells\u001b[39m\u001b[39m'\u001b[39m, kwargs[\u001b[39m'\u001b[39m\u001b[39mconstraints\u001b[39m\u001b[39m'\u001b[39m]\u001b[39m.\u001b[39mkeys()):\n\u001b[1;32m    493\u001b[0m         \u001b[39mif\u001b[39;00m \u001b[39misinstance\u001b[39m(kwargs[\u001b[39m'\u001b[39m\u001b[39mconstraints\u001b[39m\u001b[39m'\u001b[39m][\u001b[39m'\u001b[39m\u001b[39mcells\u001b[39m\u001b[39m'\u001b[39m],\u001b[39mstr\u001b[39m):\n",
      "File \u001b[0;32m~/ticodm/ticodm/contingency_table.py:491\u001b[0m, in \u001b[0;36m<listcomp>\u001b[0;34m(.0)\u001b[0m\n\u001b[1;32m    489\u001b[0m \u001b[39melif\u001b[39;00m str_in_list(\u001b[39m'\u001b[39m\u001b[39mconstraints\u001b[39m\u001b[39m'\u001b[39m, kwargs\u001b[39m.\u001b[39mkeys()):\n\u001b[1;32m    490\u001b[0m     \u001b[39mif\u001b[39;00m str_in_list(\u001b[39m'\u001b[39m\u001b[39maxes\u001b[39m\u001b[39m'\u001b[39m, kwargs[\u001b[39m'\u001b[39m\u001b[39mconstraints\u001b[39m\u001b[39m'\u001b[39m]\u001b[39m.\u001b[39mkeys()):\n\u001b[0;32m--> 491\u001b[0m         constrained_axes \u001b[39m=\u001b[39m [tuplize(ax) \u001b[39mfor\u001b[39;00m ax \u001b[39min\u001b[39;00m kwargs[\u001b[39m'\u001b[39m\u001b[39mconstraints\u001b[39m\u001b[39m'\u001b[39m][\u001b[39m'\u001b[39m\u001b[39maxes\u001b[39m\u001b[39m'\u001b[39m] \u001b[39mif\u001b[39;00m \u001b[39mlen\u001b[39;49m(ax) \u001b[39m>\u001b[39m \u001b[39m0\u001b[39m]\n\u001b[1;32m    492\u001b[0m     \u001b[39mif\u001b[39;00m str_in_list(\u001b[39m'\u001b[39m\u001b[39mcells\u001b[39m\u001b[39m'\u001b[39m, kwargs[\u001b[39m'\u001b[39m\u001b[39mconstraints\u001b[39m\u001b[39m'\u001b[39m]\u001b[39m.\u001b[39mkeys()):\n\u001b[1;32m    493\u001b[0m         \u001b[39mif\u001b[39;00m \u001b[39misinstance\u001b[39m(kwargs[\u001b[39m'\u001b[39m\u001b[39mconstraints\u001b[39m\u001b[39m'\u001b[39m][\u001b[39m'\u001b[39m\u001b[39mcells\u001b[39m\u001b[39m'\u001b[39m],\u001b[39mstr\u001b[39m):\n",
      "\u001b[0;31mTypeError\u001b[0m: object of type 'int' has no len()"
     ]
    }
   ],
   "source": [
    "# Initialise contingency table (discrete origin - destination matrix)\n",
    "ct = ContingencyTable2D(\n",
    "    table=table,\n",
    "    constraints={\n",
    "        \"axes\":[1],\n",
    "        \"cells\":[(0,1),(4,2)]\n",
    "    }\n",
    ")"
   ]
  },
  {
   "cell_type": "markdown",
   "metadata": {},
   "source": [
    "We have now initialised a 5x6 ODM."
   ]
  },
  {
   "cell_type": "code",
   "execution_count": 8,
   "metadata": {},
   "outputs": [
    {
     "data": {
      "text/plain": [
       "5x6 ContingencyTable2(Config)"
      ]
     },
     "execution_count": 8,
     "metadata": {},
     "output_type": "execute_result"
    }
   ],
   "source": [
    "# View object\n",
    "ct"
   ]
  },
  {
   "cell_type": "code",
   "execution_count": 9,
   "metadata": {},
   "outputs": [
    {
     "data": {
      "text/plain": [
       "array([[48, 20, 39, 13, 25, 16],\n",
       "       [24, 42, 27, 31, 44, 31],\n",
       "       [45, 27, 49, 29,  6, 17],\n",
       "       [10, 48, 49, 13, 38, 35],\n",
       "       [39,  4, 40, 12,  1, 42]], dtype=int32)"
      ]
     },
     "execution_count": 9,
     "metadata": {},
     "output_type": "execute_result"
    }
   ],
   "source": [
    "# Print table\n",
    "ct.table"
   ]
  },
  {
   "cell_type": "code",
   "execution_count": 10,
   "metadata": {},
   "outputs": [
    {
     "data": {
      "text/plain": [
       "array([5, 6], dtype=uint8)"
      ]
     },
     "execution_count": 10,
     "metadata": {},
     "output_type": "execute_result"
    }
   ],
   "source": [
    "# Print table dimensions\n",
    "ct.dims"
   ]
  },
  {
   "cell_type": "code",
   "execution_count": 11,
   "metadata": {},
   "outputs": [
    {
     "data": {
      "text/plain": [
       "{(0,): array([166, 121, 164,  98, 114, 141], dtype=int32),\n",
       " (1,): array([141, 199, 173, 193,  98], dtype=int32),\n",
       " (0, 1): array([804], dtype=int32)}"
      ]
     },
     "execution_count": 11,
     "metadata": {},
     "output_type": "execute_result"
    }
   ],
   "source": [
    "# Print margins\n",
    "ct.residual_margins\n",
    "# ct.margins"
   ]
  },
  {
   "cell_type": "markdown",
   "metadata": {},
   "source": [
    "Note that fixing the rowsums implies also fixing the grand total of the table indexed by a sum over both 0 and 1 axes."
   ]
  },
  {
   "cell_type": "code",
   "execution_count": 12,
   "metadata": {},
   "outputs": [
    {
     "data": {
      "text/plain": [
       "[(0, 1), (1,)]"
      ]
     },
     "execution_count": 12,
     "metadata": {},
     "output_type": "execute_result"
    }
   ],
   "source": [
    "# Print constrained axes\n",
    "ct.constraints['constrained_axes']"
   ]
  },
  {
   "cell_type": "code",
   "execution_count": 13,
   "metadata": {},
   "outputs": [
    {
     "name": "stdout",
     "output_type": "stream",
     "text": [
      "(0, 1) : [804] 804\n",
      "(1,) : [141 199 173 193  98] 804\n"
     ]
    }
   ],
   "source": [
    "# Print margins for constrained axes\n",
    "for ax in ct.constraints['constrained_axes']:\n",
    "    print(ax,\":\",ct.residual_margins[ax],ct.residual_margins[ax].sum())"
   ]
  },
  {
   "cell_type": "code",
   "execution_count": 14,
   "metadata": {},
   "outputs": [
    {
     "data": {
      "text/plain": [
       "[(0, 1), (4, 2)]"
      ]
     },
     "execution_count": 14,
     "metadata": {},
     "output_type": "execute_result"
    }
   ],
   "source": [
    "# Print constrained cells\n",
    "ct.constraints['cells']"
   ]
  },
  {
   "cell_type": "code",
   "execution_count": 15,
   "metadata": {},
   "outputs": [
    {
     "name": "stdout",
     "output_type": "stream",
     "text": [
      "(0, 1) : 20\n",
      "(4, 2) : 40\n"
     ]
    }
   ],
   "source": [
    "# Print values of constrained cells\n",
    "for c in ct.constraints['cells']:\n",
    "    print(c,\":\",ct.table[c])"
   ]
  },
  {
   "cell_type": "markdown",
   "metadata": {},
   "source": [
    "# Deterministic optimisation algorithms\n",
    "\n",
    "A simple way of generating a table satisfying all constraints is to use iterative residual filling (similar to iterative proportional fitting). This can be done as follows"
   ]
  },
  {
   "cell_type": "code",
   "execution_count": 16,
   "metadata": {},
   "outputs": [],
   "source": [
    "# Initialise contingency table (discrete origin - destination matrix)\n",
    "ct = ContingencyTable2D(\n",
    "    table=table,\n",
    "    constraints={\n",
    "        \"axes\":[[1],[0]],\n",
    "        \"cells\":[(0,1),(4,2)]\n",
    "    }\n",
    ")"
   ]
  },
  {
   "cell_type": "code",
   "execution_count": 17,
   "metadata": {},
   "outputs": [],
   "source": [
    "# Obtain solution using mininum residual filling solver\n",
    "table_solution = ct.table_iterative_residual_filling_solution()"
   ]
  },
  {
   "cell_type": "code",
   "execution_count": 18,
   "metadata": {},
   "outputs": [
    {
     "data": {
      "text/plain": [
       "array([[ 43,  20,   0,  98,   0,   0],\n",
       "       [ 25,  60,   0,   0, 114,   0],\n",
       "       [  0,  61, 112,   0,   0,   0],\n",
       "       [  0,   0,  52,   0,   0, 141],\n",
       "       [ 98,   0,  40,   0,   0,   0]], dtype=int32)"
      ]
     },
     "execution_count": 18,
     "metadata": {},
     "output_type": "execute_result"
    }
   ],
   "source": [
    "table_solution"
   ]
  },
  {
   "cell_type": "code",
   "execution_count": 19,
   "metadata": {},
   "outputs": [
    {
     "data": {
      "text/plain": [
       "True"
      ]
     },
     "execution_count": 19,
     "metadata": {},
     "output_type": "execute_result"
    }
   ],
   "source": [
    "# Ensure that table satisfies constraints\n",
    "ct.table_margins_admissible(table_solution) and ct.table_cells_admissible(table_solution)"
   ]
  },
  {
   "cell_type": "code",
   "execution_count": 23,
   "metadata": {},
   "outputs": [
    {
     "name": "stderr",
     "output_type": "stream",
     "text": [
      "Solution found: False.\n"
     ]
    },
    {
     "name": "stdout",
     "output_type": "stream",
     "text": [
      "{(0,): array([166, 141, 204,  98, 114, 141], dtype=int32), (1,): array([161, 199, 173, 193, 138], dtype=int32), (0, 1): array([864], dtype=int32)}\n",
      "{(0,): array([166, 121, 164,  98, 114, 141], dtype=int32), (1,): array([141, 199, 173, 193,  98], dtype=int32), (0, 1): array([804], dtype=int32)}\n"
     ]
    },
    {
     "ename": "Exception",
     "evalue": "No solution found",
     "output_type": "error",
     "traceback": [
      "\u001b[0;31m---------------------------------------------------------------------------\u001b[0m",
      "\u001b[0;31mException\u001b[0m                                 Traceback (most recent call last)",
      "\u001b[1;32m/home/iz230@ad.eng.cam.ac.uk/ticodm/notebooks/Example 1 - Origin destination matrix sampling.ipynb Cell 27\u001b[0m in \u001b[0;36m<cell line: 2>\u001b[0;34m()\u001b[0m\n\u001b[1;32m      <a href='vscode-notebook-cell://ssh-remote%2Bcsic40/home/iz230%40ad.eng.cam.ac.uk/ticodm/notebooks/Example%201%20-%20Origin%20destination%20matrix%20sampling.ipynb#X35sdnNjb2RlLXJlbW90ZQ%3D%3D?line=0'>1</a>\u001b[0m \u001b[39m# Obtain solution using uniform filling solver\u001b[39;00m\n\u001b[0;32m----> <a href='vscode-notebook-cell://ssh-remote%2Bcsic40/home/iz230%40ad.eng.cam.ac.uk/ticodm/notebooks/Example%201%20-%20Origin%20destination%20matrix%20sampling.ipynb#X35sdnNjb2RlLXJlbW90ZQ%3D%3D?line=1'>2</a>\u001b[0m table_solution \u001b[39m=\u001b[39m ct\u001b[39m.\u001b[39;49mtable_iterative_uniform_residual_filling_solution()\n",
      "File \u001b[0;32m~/ticodm/ticodm/contingency_table.py:1358\u001b[0m, in \u001b[0;36mContingencyTable2D.table_iterative_uniform_residual_filling_solution\u001b[0;34m(self, intensity, margins)\u001b[0m\n\u001b[1;32m   1356\u001b[0m \u001b[39mif\u001b[39;00m np\u001b[39m.\u001b[39msum(table0\u001b[39m.\u001b[39mmask) \u001b[39m==\u001b[39m np\u001b[39m.\u001b[39mprod(\u001b[39mself\u001b[39m\u001b[39m.\u001b[39mndims()):\n\u001b[1;32m   1357\u001b[0m     \u001b[39mself\u001b[39m\u001b[39m.\u001b[39mlogger\u001b[39m.\u001b[39mwarning(\u001b[39mf\u001b[39m\u001b[39m'\u001b[39m\u001b[39mSolution found: \u001b[39m\u001b[39m{\u001b[39;00m\u001b[39mnot\u001b[39;00m\u001b[39m \u001b[39m\u001b[39mself\u001b[39m\u001b[39m.\u001b[39mtable_margins_admissible(table0\u001b[39m.\u001b[39mdata)\u001b[39m}\u001b[39;00m\u001b[39m.\u001b[39m\u001b[39m'\u001b[39m)\n\u001b[0;32m-> 1358\u001b[0m     \u001b[39mraise\u001b[39;00m \u001b[39mException\u001b[39;00m(\u001b[39m'\u001b[39m\u001b[39mNo solution found\u001b[39m\u001b[39m'\u001b[39m)\n\u001b[1;32m   1359\u001b[0m     \u001b[39m# self.table_iterative_uniform_residual_filling_solution(margins)\u001b[39;00m\n\u001b[1;32m   1360\u001b[0m \n\u001b[1;32m   1361\u001b[0m \u001b[39m# Get indices of unmasked elements\u001b[39;00m\n\u001b[1;32m   1362\u001b[0m unmasked_indices \u001b[39m=\u001b[39m np\u001b[39m.\u001b[39mma\u001b[39m.\u001b[39mwhere(\u001b[39m~\u001b[39mtable0\u001b[39m.\u001b[39mmask)\n",
      "\u001b[0;31mException\u001b[0m: No solution found"
     ]
    }
   ],
   "source": [
    "# Obtain solution using uniform filling solver\n",
    "table_solution = ct.table_iterative_uniform_residual_filling_solution()"
   ]
  },
  {
   "cell_type": "code",
   "execution_count": 21,
   "metadata": {},
   "outputs": [
    {
     "data": {
      "text/plain": [
       "array([[ 43,  20,   0,  98,   0,   0],\n",
       "       [ 25,  60,   0,   0, 114,   0],\n",
       "       [  0,  61, 112,   0,   0,   0],\n",
       "       [  0,   0,  52,   0,   0, 141],\n",
       "       [ 98,   0,  40,   0,   0,   0]], dtype=int32)"
      ]
     },
     "execution_count": 21,
     "metadata": {},
     "output_type": "execute_result"
    }
   ],
   "source": [
    "table_solution"
   ]
  },
  {
   "cell_type": "code",
   "execution_count": 22,
   "metadata": {},
   "outputs": [
    {
     "data": {
      "text/plain": [
       "True"
      ]
     },
     "execution_count": 22,
     "metadata": {},
     "output_type": "execute_result"
    }
   ],
   "source": [
    "# Ensure that table satisfies constraints\n",
    "ct.table_margins_admissible(table_solution) and ct.table_cells_admissible(table_solution)"
   ]
  },
  {
   "cell_type": "markdown",
   "metadata": {},
   "source": [
    "# Markov Chain Monte Carlo sampling of tables"
   ]
  },
  {
   "cell_type": "markdown",
   "metadata": {},
   "source": []
  },
  {
   "cell_type": "markdown",
   "metadata": {},
   "source": []
  }
 ],
 "metadata": {
  "kernelspec": {
   "display_name": "ticodm",
   "language": "python",
   "name": "ticodm"
  },
  "language_info": {
   "codemirror_mode": {
    "name": "ipython",
    "version": 3
   },
   "file_extension": ".py",
   "mimetype": "text/x-python",
   "name": "python",
   "nbconvert_exporter": "python",
   "pygments_lexer": "ipython3",
   "version": "3.8.10"
  },
  "orig_nbformat": 4
 },
 "nbformat": 4,
 "nbformat_minor": 2
}
